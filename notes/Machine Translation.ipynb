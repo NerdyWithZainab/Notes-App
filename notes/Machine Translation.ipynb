{
 "cells": [
  {
   "cell_type": "code",
   "execution_count": 1,
   "metadata": {},
   "outputs": [
    {
     "name": "stdout",
     "output_type": "stream",
     "text": [
      "WARNING:tensorflow:From c:\\Users\\ZainabFR\\anaconda3-copy\\Lib\\site-packages\\tf_keras\\src\\losses.py:2976: The name tf.losses.sparse_softmax_cross_entropy is deprecated. Please use tf.compat.v1.losses.sparse_softmax_cross_entropy instead.\n",
      "\n"
     ]
    },
    {
     "name": "stderr",
     "output_type": "stream",
     "text": [
      "Device set to use cpu\n"
     ]
    }
   ],
   "source": [
    "# Use a pipeline as a high-level helper\n",
    "from transformers import pipeline\n",
    "\n",
    "pipe = pipeline(\"text2text-generation\", model=\"google/flan-t5-large\")"
   ]
  },
  {
   "cell_type": "code",
   "execution_count": null,
   "metadata": {},
   "outputs": [
    {
     "name": "stdout",
     "output_type": "stream",
     "text": [
      "Requirement already satisfied: flask in c:\\users\\zainabfr\\anaconda3-copy\\lib\\site-packages (3.0.3)\n",
      "Requirement already satisfied: transformers in c:\\users\\zainabfr\\anaconda3-copy\\lib\\site-packages (4.49.0)\n",
      "Requirement already satisfied: torch in c:\\users\\zainabfr\\anaconda3-copy\\lib\\site-packages (2.6.0)\n",
      "Requirement already satisfied: Werkzeug>=3.0.0 in c:\\users\\zainabfr\\anaconda3-copy\\lib\\site-packages (from flask) (3.0.3)\n",
      "Requirement already satisfied: Jinja2>=3.1.2 in c:\\users\\zainabfr\\anaconda3-copy\\lib\\site-packages (from flask) (3.1.4)\n",
      "Requirement already satisfied: itsdangerous>=2.1.2 in c:\\users\\zainabfr\\anaconda3-copy\\lib\\site-packages (from flask) (2.2.0)\n",
      "Requirement already satisfied: click>=8.1.3 in c:\\users\\zainabfr\\anaconda3-copy\\lib\\site-packages (from flask) (8.1.7)\n",
      "Requirement already satisfied: blinker>=1.6.2 in c:\\users\\zainabfr\\anaconda3-copy\\lib\\site-packages (from flask) (1.6.2)\n",
      "Requirement already satisfied: filelock in c:\\users\\zainabfr\\anaconda3-copy\\lib\\site-packages (from transformers) (3.13.1)\n",
      "Requirement already satisfied: huggingface-hub<1.0,>=0.26.0 in c:\\users\\zainabfr\\anaconda3-copy\\lib\\site-packages (from transformers) (0.29.1)\n",
      "Requirement already satisfied: numpy>=1.17 in c:\\users\\zainabfr\\anaconda3-copy\\lib\\site-packages (from transformers) (1.26.4)\n",
      "Requirement already satisfied: packaging>=20.0 in c:\\users\\zainabfr\\anaconda3-copy\\lib\\site-packages (from transformers) (23.2)\n",
      "Requirement already satisfied: pyyaml>=5.1 in c:\\users\\zainabfr\\anaconda3-copy\\lib\\site-packages (from transformers) (6.0.1)\n",
      "Requirement already satisfied: regex!=2019.12.17 in c:\\users\\zainabfr\\anaconda3-copy\\lib\\site-packages (from transformers) (2023.10.3)\n",
      "Requirement already satisfied: requests in c:\\users\\zainabfr\\anaconda3-copy\\lib\\site-packages (from transformers) (2.32.2)\n",
      "Requirement already satisfied: tokenizers<0.22,>=0.21 in c:\\users\\zainabfr\\anaconda3-copy\\lib\\site-packages (from transformers) (0.21.0)\n",
      "Requirement already satisfied: safetensors>=0.4.1 in c:\\users\\zainabfr\\anaconda3-copy\\lib\\site-packages (from transformers) (0.5.2)\n",
      "Requirement already satisfied: tqdm>=4.27 in c:\\users\\zainabfr\\anaconda3-copy\\lib\\site-packages (from transformers) (4.66.4)\n",
      "Requirement already satisfied: typing-extensions>=4.10.0 in c:\\users\\zainabfr\\anaconda3-copy\\lib\\site-packages (from torch) (4.12.2)\n",
      "Requirement already satisfied: networkx in c:\\users\\zainabfr\\anaconda3-copy\\lib\\site-packages (from torch) (3.2.1)\n",
      "Requirement already satisfied: fsspec in c:\\users\\zainabfr\\anaconda3-copy\\lib\\site-packages (from torch) (2024.3.1)\n",
      "Requirement already satisfied: setuptools in c:\\users\\zainabfr\\anaconda3-copy\\lib\\site-packages (from torch) (69.5.1)\n",
      "Requirement already satisfied: sympy==1.13.1 in c:\\users\\zainabfr\\anaconda3-copy\\lib\\site-packages (from torch) (1.13.1)\n",
      "Requirement already satisfied: mpmath<1.4,>=1.1.0 in c:\\users\\zainabfr\\anaconda3-copy\\lib\\site-packages (from sympy==1.13.1->torch) (1.3.0)\n",
      "Requirement already satisfied: colorama in c:\\users\\zainabfr\\anaconda3-copy\\lib\\site-packages (from click>=8.1.3->flask) (0.4.6)\n",
      "Requirement already satisfied: MarkupSafe>=2.0 in c:\\users\\zainabfr\\anaconda3-copy\\lib\\site-packages (from Jinja2>=3.1.2->flask) (2.1.3)\n",
      "Requirement already satisfied: charset-normalizer<4,>=2 in c:\\users\\zainabfr\\anaconda3-copy\\lib\\site-packages (from requests->transformers) (2.0.4)\n",
      "Requirement already satisfied: idna<4,>=2.5 in c:\\users\\zainabfr\\anaconda3-copy\\lib\\site-packages (from requests->transformers) (3.7)\n",
      "Requirement already satisfied: urllib3<3,>=1.21.1 in c:\\users\\zainabfr\\anaconda3-copy\\lib\\site-packages (from requests->transformers) (2.2.2)\n",
      "Requirement already satisfied: certifi>=2017.4.17 in c:\\users\\zainabfr\\anaconda3-copy\\lib\\site-packages (from requests->transformers) (2024.8.30)\n",
      "Note: you may need to restart the kernel to use updated packages.\n"
     ]
    },
    {
     "ename": "",
     "evalue": "",
     "output_type": "error",
     "traceback": [
      "\u001b[1;31mThe Kernel crashed while executing code in the current cell or a previous cell. \n",
      "\u001b[1;31mPlease review the code in the cell(s) to identify a possible cause of the failure. \n",
      "\u001b[1;31mClick <a href='https://aka.ms/vscodeJupyterKernelCrash'>here</a> for more info. \n",
      "\u001b[1;31mView Jupyter <a href='command:jupyter.viewOutput'>log</a> for further details."
     ]
    }
   ],
   "source": [
    "%pip install flask transformers torch\n"
   ]
  },
  {
   "cell_type": "code",
   "execution_count": 1,
   "metadata": {},
   "outputs": [
    {
     "name": "stdout",
     "output_type": "stream",
     "text": [
      "WARNING:tensorflow:From c:\\Users\\ZainabFR\\anaconda3-copy\\Lib\\site-packages\\tf_keras\\src\\losses.py:2976: The name tf.losses.sparse_softmax_cross_entropy is deprecated. Please use tf.compat.v1.losses.sparse_softmax_cross_entropy instead.\n",
      "\n"
     ]
    },
    {
     "name": "stderr",
     "output_type": "stream",
     "text": [
      "Device set to use cpu\n"
     ]
    },
    {
     "name": "stdout",
     "output_type": "stream",
     "text": [
      " * Serving Flask app '__main__'\n",
      " * Debug mode: off\n"
     ]
    },
    {
     "name": "stderr",
     "output_type": "stream",
     "text": [
      "WARNING: This is a development server. Do not use it in a production deployment. Use a production WSGI server instead.\n",
      " * Running on all addresses (0.0.0.0)\n",
      " * Running on http://127.0.0.1:5000\n",
      " * Running on http://192.168.1.17:5000\n",
      "Press CTRL+C to quit\n"
     ]
    },
    {
     "name": "stderr",
     "output_type": "stream",
     "text": [
      "127.0.0.1 - - [10/Apr/2025 18:57:16] \"GET / HTTP/1.1\" 200 -\n",
      "192.168.1.17 - - [10/Apr/2025 18:58:29] \"GET / HTTP/1.1\" 200 -\n",
      "192.168.1.17 - - [10/Apr/2025 18:58:29] \"GET /favicon.ico HTTP/1.1\" 404 -\n"
     ]
    }
   ],
   "source": [
    "from flask import Flask, request, jsonify\n",
    "from transformers import pipeline\n",
    "import torch\n",
    "import time\n",
    "import threading\n",
    "\n",
    "# Check for GPU availability\n",
    "device = 0 if torch.cuda.is_available() else -1\n",
    "\n",
    "# Load the translation model (Supports instruction prompts like \"translate English to French\")\n",
    "translator = pipeline(\"text2text-generation\", model=\"google/flan-t5-large\", device=device)\n",
    "\n",
    "# Initialize Flask\n",
    "app = Flask(__name__)\n",
    "\n",
    "@app.route('/')\n",
    "def home():\n",
    "    return \"🟢 Translation API is running!\"\n",
    "\n",
    "@app.route('/translate', methods=['POST'])\n",
    "def translate_text():\n",
    "    try:\n",
    "        # Get request data\n",
    "        data = request.get_json()\n",
    "\n",
    "        # Validate input text\n",
    "        text = data.get('text', '').strip()\n",
    "        if not text:\n",
    "            return jsonify({'error': 'Text must be a non-empty string'}), 400\n",
    "\n",
    "        # Get custom prompt info\n",
    "        source_lang = data.get('source_lang', 'English').strip()\n",
    "        target_lang = data.get('target_lang', 'French').strip()\n",
    "\n",
    "        if not source_lang or not target_lang:\n",
    "            return jsonify({'error': 'Both source_lang and target_lang must be provided'}), 400\n",
    "\n",
    "        # Create prompt dynamically\n",
    "        prompt = f\"translate {source_lang} to {target_lang}: {text}\"\n",
    "\n",
    "        # Perform translation\n",
    "        translated_text = translator(prompt, max_length=256, do_sample=False)\n",
    "\n",
    "        return jsonify({\n",
    "            'translation': translated_text[0]['generated_text'],\n",
    "            'source_lang': source_lang,\n",
    "            'target_lang': target_lang\n",
    "        })\n",
    "\n",
    "    except Exception as e:\n",
    "        return jsonify({'error': str(e)}), 500\n",
    "\n",
    "# Run Flask app in a separate thread for integration\n",
    "def run_flask():\n",
    "    app.run(host='0.0.0.0', port=5000, debug=False, use_reloader=False)\n",
    "\n",
    "flask_thread = threading.Thread(target=run_flask)\n",
    "flask_thread.start()\n",
    "\n",
    "time.sleep(2)  # Allow server time to start\n"
   ]
  }
 ],
 "metadata": {
  "kernelspec": {
   "display_name": "base",
   "language": "python",
   "name": "python3"
  },
  "language_info": {
   "codemirror_mode": {
    "name": "ipython",
    "version": 3
   },
   "file_extension": ".py",
   "mimetype": "text/x-python",
   "name": "python",
   "nbconvert_exporter": "python",
   "pygments_lexer": "ipython3",
   "version": "3.12.4"
  }
 },
 "nbformat": 4,
 "nbformat_minor": 2
}
