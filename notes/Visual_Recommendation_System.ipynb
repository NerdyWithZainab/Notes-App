{
 "cells": [
  {
   "cell_type": "code",
   "execution_count": 2,
   "metadata": {},
   "outputs": [
    {
     "name": "stdout",
     "output_type": "stream",
     "text": [
      "Collecting torch\n",
      "  Using cached torch-2.6.0-cp312-cp312-win_amd64.whl.metadata (28 kB)\n",
      "Collecting torchvision\n",
      "  Using cached torchvision-0.21.0-cp312-cp312-win_amd64.whl.metadata (6.3 kB)\n",
      "Collecting clip-by-openai\n",
      "  Using cached clip_by_openai-1.1-py3-none-any.whl.metadata (369 bytes)\n",
      "Requirement already satisfied: flask in c:\\users\\zainabfr\\anaconda3-copy\\lib\\site-packages (3.0.3)\n",
      "Collecting flask-cors\n",
      "  Using cached flask_cors-5.0.1-py3-none-any.whl.metadata (961 bytes)\n",
      "Requirement already satisfied: numpy in c:\\users\\zainabfr\\anaconda3-copy\\lib\\site-packages (1.26.4)\n",
      "Requirement already satisfied: pillow in c:\\users\\zainabfr\\anaconda3-copy\\lib\\site-packages (10.3.0)\n",
      "Requirement already satisfied: requests in c:\\users\\zainabfr\\anaconda3-copy\\lib\\site-packages (2.32.2)\n",
      "Requirement already satisfied: filelock in c:\\users\\zainabfr\\anaconda3-copy\\lib\\site-packages (from torch) (3.13.1)\n",
      "Requirement already satisfied: typing-extensions>=4.10.0 in c:\\users\\zainabfr\\anaconda3-copy\\lib\\site-packages (from torch) (4.12.2)\n",
      "Requirement already satisfied: networkx in c:\\users\\zainabfr\\anaconda3-copy\\lib\\site-packages (from torch) (3.2.1)\n",
      "Requirement already satisfied: jinja2 in c:\\users\\zainabfr\\anaconda3-copy\\lib\\site-packages (from torch) (3.1.4)\n",
      "Requirement already satisfied: fsspec in c:\\users\\zainabfr\\anaconda3-copy\\lib\\site-packages (from torch) (2024.3.1)\n",
      "Requirement already satisfied: setuptools in c:\\users\\zainabfr\\anaconda3-copy\\lib\\site-packages (from torch) (69.5.1)\n",
      "Collecting sympy==1.13.1 (from torch)\n",
      "  Using cached sympy-1.13.1-py3-none-any.whl.metadata (12 kB)\n",
      "Requirement already satisfied: mpmath<1.4,>=1.1.0 in c:\\users\\zainabfr\\anaconda3-copy\\lib\\site-packages (from sympy==1.13.1->torch) (1.3.0)\n",
      "Collecting ftfy (from clip-by-openai)\n",
      "  Using cached ftfy-6.3.1-py3-none-any.whl.metadata (7.3 kB)\n",
      "Requirement already satisfied: regex in c:\\users\\zainabfr\\anaconda3-copy\\lib\\site-packages (from clip-by-openai) (2023.10.3)\n",
      "Requirement already satisfied: tqdm in c:\\users\\zainabfr\\anaconda3-copy\\lib\\site-packages (from clip-by-openai) (4.66.4)\n",
      "INFO: pip is looking at multiple versions of clip-by-openai to determine which version is compatible with other requirements. This could take a while.\n",
      "Collecting clip-by-openai\n",
      "  Using cached clip_by_openai-1.0.1-py3-none-any.whl.metadata (407 bytes)\n",
      "  Using cached clip_by_openai-0.1.1.5-py3-none-any.whl.metadata (8.6 kB)\n",
      "  Using cached clip_by_openai-0.1.1.4-py3-none-any.whl.metadata (8.6 kB)\n",
      "  Using cached clip_by_openai-0.1.1.3-py3-none-any.whl.metadata (8.7 kB)\n",
      "  Using cached clip_by_openai-0.1.1.2-py3-none-any.whl.metadata (9.0 kB)\n",
      "  Using cached clip_by_openai-0.1.1-py3-none-any.whl.metadata (9.0 kB)\n",
      "  Using cached clip_by_openai-0.1.0-py3-none-any.whl.metadata (9.0 kB)\n",
      "INFO: pip is still looking at multiple versions of clip-by-openai to determine which version is compatible with other requirements. This could take a while.\n",
      "Collecting torchvision\n",
      "  Using cached torchvision-0.20.1-cp312-cp312-win_amd64.whl.metadata (6.2 kB)\n",
      "Collecting torch\n",
      "  Using cached torch-2.5.1-cp312-cp312-win_amd64.whl.metadata (28 kB)\n",
      "INFO: This is taking longer than usual. You might need to provide the dependency resolver with stricter constraints to reduce runtime. See https://pip.pypa.io/warnings/backtracking for guidance. If you want to abort this run, press Ctrl + C.\n",
      "Collecting torchvision\n",
      "  Using cached torchvision-0.20.0-cp312-cp312-win_amd64.whl.metadata (6.2 kB)\n",
      "Collecting torch\n",
      "  Using cached torch-2.5.0-cp312-cp312-win_amd64.whl.metadata (28 kB)\n",
      "Collecting torchvision\n",
      "  Using cached torchvision-0.19.1-cp312-cp312-win_amd64.whl.metadata (6.1 kB)\n",
      "Collecting torch\n",
      "  Using cached torch-2.4.1-cp312-cp312-win_amd64.whl.metadata (27 kB)\n",
      "Requirement already satisfied: sympy in c:\\users\\zainabfr\\anaconda3-copy\\lib\\site-packages (from torch) (1.12)\n",
      "Collecting torchvision\n",
      "  Using cached torchvision-0.19.0-1-cp312-cp312-win_amd64.whl.metadata (6.1 kB)\n",
      "Collecting torch\n",
      "  Using cached torch-2.4.0-cp312-cp312-win_amd64.whl.metadata (27 kB)\n",
      "Collecting torchvision\n",
      "  Using cached torchvision-0.18.1-cp312-cp312-win_amd64.whl.metadata (6.6 kB)\n",
      "Collecting torch\n",
      "  Using cached torch-2.3.1-cp312-cp312-win_amd64.whl.metadata (26 kB)\n",
      "Collecting mkl<=2021.4.0,>=2021.1.1 (from torch)\n",
      "  Using cached mkl-2021.4.0-py2.py3-none-win_amd64.whl.metadata (1.4 kB)\n",
      "Collecting torchvision\n",
      "  Using cached torchvision-0.18.0-cp312-cp312-win_amd64.whl.metadata (6.6 kB)\n",
      "Collecting torch\n",
      "  Using cached torch-2.3.0-cp312-cp312-win_amd64.whl.metadata (26 kB)\n",
      "Collecting torchvision\n",
      "  Using cached torchvision-0.17.2-cp312-cp312-win_amd64.whl.metadata (6.6 kB)\n",
      "Collecting torch\n",
      "  Using cached torch-2.2.2-cp312-cp312-win_amd64.whl.metadata (26 kB)\n",
      "Collecting torchvision\n",
      "  Using cached torchvision-0.17.1-cp312-cp312-win_amd64.whl.metadata (6.6 kB)\n",
      "Collecting torch\n",
      "  Using cached torch-2.2.1-cp312-cp312-win_amd64.whl.metadata (26 kB)\n",
      "Collecting torchvision\n",
      "  Using cached torchvision-0.17.0-cp312-cp312-win_amd64.whl.metadata (6.6 kB)\n",
      "Collecting torch\n",
      "  Using cached torch-2.2.0-cp312-cp312-win_amd64.whl.metadata (26 kB)\n",
      "\n",
      "The conflict is caused by:\n",
      "    The user requested torch\n",
      "    torchvision 0.17.0 depends on torch==2.2.0\n",
      "    clip-by-openai 1.1 depends on torch<1.7.2 and >=1.7.1\n",
      "    The user requested torch\n",
      "    torchvision 0.17.0 depends on torch==2.2.0\n",
      "    clip-by-openai 1.0.1 depends on torch<1.7.2 and >=1.7.1\n",
      "    The user requested torch\n",
      "    torchvision 0.17.0 depends on torch==2.2.0\n",
      "    clip-by-openai 0.1.1.5 depends on torch==1.7.1\n",
      "    The user requested torch\n",
      "    torchvision 0.17.0 depends on torch==2.2.0\n",
      "    clip-by-openai 0.1.1.4 depends on torch==1.7.1\n",
      "    The user requested torch\n",
      "    torchvision 0.17.0 depends on torch==2.2.0\n",
      "    clip-by-openai 0.1.1.3 depends on torch==1.7.1\n",
      "    The user requested torch\n",
      "    torchvision 0.17.0 depends on torch==2.2.0\n",
      "    clip-by-openai 0.1.1.2 depends on torch==1.7.1\n",
      "    The user requested torch\n",
      "    torchvision 0.17.0 depends on torch==2.2.0\n",
      "    clip-by-openai 0.1.1 depends on torch==1.7.1\n",
      "    The user requested torch\n",
      "    torchvision 0.17.0 depends on torch==2.2.0\n",
      "    clip-by-openai 0.1.0 depends on torch==1.7.1\n",
      "\n",
      "To fix this you could try to:\n",
      "1. loosen the range of package versions you've specified\n",
      "2. remove package versions to allow pip attempt to solve the dependency conflict\n",
      "\n",
      "Note: you may need to restart the kernel to use updated packages.\n"
     ]
    },
    {
     "name": "stderr",
     "output_type": "stream",
     "text": [
      "ERROR: Cannot install clip-by-openai==0.1.0, clip-by-openai==0.1.1, clip-by-openai==0.1.1.2, clip-by-openai==0.1.1.3, clip-by-openai==0.1.1.4, clip-by-openai==0.1.1.5, clip-by-openai==1.0.1, clip-by-openai==1.1, torch and torchvision==0.17.0 because these package versions have conflicting dependencies.\n",
      "ERROR: ResolutionImpossible: for help visit https://pip.pypa.io/en/latest/topics/dependency-resolution/#dealing-with-dependency-conflicts\n"
     ]
    }
   ],
   "source": [
    "%pip install torch torchvision clip-by-openai flask flask-cors numpy pillow requests"
   ]
  },
  {
   "cell_type": "code",
   "execution_count": 1,
   "metadata": {},
   "outputs": [
    {
     "name": "stdout",
     "output_type": "stream",
     "text": [
      "Collecting torch\n",
      "  Using cached torch-2.6.0-cp312-cp312-win_amd64.whl.metadata (28 kB)\n",
      "Requirement already satisfied: filelock in c:\\users\\zainabfr\\anaconda3-copy\\lib\\site-packages (from torch) (3.13.1)\n",
      "Requirement already satisfied: typing-extensions>=4.10.0 in c:\\users\\zainabfr\\anaconda3-copy\\lib\\site-packages (from torch) (4.12.2)\n",
      "Requirement already satisfied: networkx in c:\\users\\zainabfr\\anaconda3-copy\\lib\\site-packages (from torch) (3.2.1)\n",
      "Requirement already satisfied: jinja2 in c:\\users\\zainabfr\\anaconda3-copy\\lib\\site-packages (from torch) (3.1.4)\n",
      "Requirement already satisfied: fsspec in c:\\users\\zainabfr\\anaconda3-copy\\lib\\site-packages (from torch) (2024.3.1)\n",
      "Requirement already satisfied: setuptools in c:\\users\\zainabfr\\anaconda3-copy\\lib\\site-packages (from torch) (69.5.1)\n",
      "Collecting sympy==1.13.1 (from torch)\n",
      "  Using cached sympy-1.13.1-py3-none-any.whl.metadata (12 kB)\n",
      "Requirement already satisfied: mpmath<1.4,>=1.1.0 in c:\\users\\zainabfr\\anaconda3-copy\\lib\\site-packages (from sympy==1.13.1->torch) (1.3.0)\n",
      "Requirement already satisfied: MarkupSafe>=2.0 in c:\\users\\zainabfr\\anaconda3-copy\\lib\\site-packages (from jinja2->torch) (2.1.3)\n",
      "Using cached torch-2.6.0-cp312-cp312-win_amd64.whl (204.1 MB)\n",
      "Using cached sympy-1.13.1-py3-none-any.whl (6.2 MB)\n",
      "Installing collected packages: sympy, torch\n",
      "  Attempting uninstall: sympy\n",
      "    Found existing installation: sympy 1.12\n",
      "    Uninstalling sympy-1.12:\n",
      "      Successfully uninstalled sympy-1.12\n",
      "Successfully installed sympy-1.13.1 torch-2.6.0\n"
     ]
    }
   ],
   "source": [
    "import sys\n",
    "!{sys.executable} -m pip install torch\n"
   ]
  },
  {
   "cell_type": "code",
   "execution_count": 8,
   "metadata": {},
   "outputs": [
    {
     "name": "stdout",
     "output_type": "stream",
     "text": [
      "Collecting torchvision\n",
      "  Using cached torchvision-0.21.0-cp312-cp312-win_amd64.whl.metadata (6.3 kB)\n",
      "Requirement already satisfied: numpy in c:\\users\\zainabfr\\anaconda3-copy\\lib\\site-packages (from torchvision) (1.26.4)\n",
      "Requirement already satisfied: torch==2.6.0 in c:\\users\\zainabfr\\anaconda3-copy\\lib\\site-packages (from torchvision) (2.6.0)\n",
      "Requirement already satisfied: pillow!=8.3.*,>=5.3.0 in c:\\users\\zainabfr\\anaconda3-copy\\lib\\site-packages (from torchvision) (10.3.0)\n",
      "Requirement already satisfied: filelock in c:\\users\\zainabfr\\anaconda3-copy\\lib\\site-packages (from torch==2.6.0->torchvision) (3.13.1)\n",
      "Requirement already satisfied: typing-extensions>=4.10.0 in c:\\users\\zainabfr\\anaconda3-copy\\lib\\site-packages (from torch==2.6.0->torchvision) (4.12.2)\n",
      "Requirement already satisfied: networkx in c:\\users\\zainabfr\\anaconda3-copy\\lib\\site-packages (from torch==2.6.0->torchvision) (3.2.1)\n",
      "Requirement already satisfied: jinja2 in c:\\users\\zainabfr\\anaconda3-copy\\lib\\site-packages (from torch==2.6.0->torchvision) (3.1.4)\n",
      "Requirement already satisfied: fsspec in c:\\users\\zainabfr\\anaconda3-copy\\lib\\site-packages (from torch==2.6.0->torchvision) (2024.3.1)\n",
      "Requirement already satisfied: setuptools in c:\\users\\zainabfr\\anaconda3-copy\\lib\\site-packages (from torch==2.6.0->torchvision) (69.5.1)\n",
      "Requirement already satisfied: sympy==1.13.1 in c:\\users\\zainabfr\\anaconda3-copy\\lib\\site-packages (from torch==2.6.0->torchvision) (1.13.1)\n",
      "Requirement already satisfied: mpmath<1.4,>=1.1.0 in c:\\users\\zainabfr\\anaconda3-copy\\lib\\site-packages (from sympy==1.13.1->torch==2.6.0->torchvision) (1.3.0)\n",
      "Requirement already satisfied: MarkupSafe>=2.0 in c:\\users\\zainabfr\\anaconda3-copy\\lib\\site-packages (from jinja2->torch==2.6.0->torchvision) (2.1.3)\n",
      "Using cached torchvision-0.21.0-cp312-cp312-win_amd64.whl (1.6 MB)\n",
      "Installing collected packages: torchvision\n",
      "Successfully installed torchvision-0.21.0\n",
      "Collecting torchvision\n",
      "  Using cached torchvision-0.21.0-cp312-cp312-win_amd64.whl.metadata (6.3 kB)\n",
      "Requirement already satisfied: numpy in c:\\users\\zainabfr\\anaconda3-copy\\lib\\site-packages (from torchvision) (1.26.4)\n",
      "Requirement already satisfied: torch==2.6.0 in c:\\users\\zainabfr\\anaconda3-copy\\lib\\site-packages (from torchvision) (2.6.0)\n",
      "Requirement already satisfied: pillow!=8.3.*,>=5.3.0 in c:\\users\\zainabfr\\anaconda3-copy\\lib\\site-packages (from torchvision) (10.3.0)\n",
      "Requirement already satisfied: filelock in c:\\users\\zainabfr\\anaconda3-copy\\lib\\site-packages (from torch==2.6.0->torchvision) (3.13.1)\n",
      "Requirement already satisfied: typing-extensions>=4.10.0 in c:\\users\\zainabfr\\anaconda3-copy\\lib\\site-packages (from torch==2.6.0->torchvision) (4.12.2)\n",
      "Requirement already satisfied: networkx in c:\\users\\zainabfr\\anaconda3-copy\\lib\\site-packages (from torch==2.6.0->torchvision) (3.2.1)\n",
      "Requirement already satisfied: jinja2 in c:\\users\\zainabfr\\anaconda3-copy\\lib\\site-packages (from torch==2.6.0->torchvision) (3.1.4)\n",
      "Requirement already satisfied: fsspec in c:\\users\\zainabfr\\anaconda3-copy\\lib\\site-packages (from torch==2.6.0->torchvision) (2024.3.1)\n",
      "Requirement already satisfied: setuptools in c:\\users\\zainabfr\\anaconda3-copy\\lib\\site-packages (from torch==2.6.0->torchvision) (69.5.1)\n",
      "Requirement already satisfied: sympy==1.13.1 in c:\\users\\zainabfr\\anaconda3-copy\\lib\\site-packages (from torch==2.6.0->torchvision) (1.13.1)\n",
      "Requirement already satisfied: mpmath<1.4,>=1.1.0 in c:\\users\\zainabfr\\anaconda3-copy\\lib\\site-packages (from sympy==1.13.1->torch==2.6.0->torchvision) (1.3.0)\n",
      "Requirement already satisfied: MarkupSafe>=2.0 in c:\\users\\zainabfr\\anaconda3-copy\\lib\\site-packages (from jinja2->torch==2.6.0->torchvision) (2.1.3)\n",
      "Using cached torchvision-0.21.0-cp312-cp312-win_amd64.whl (1.6 MB)\n",
      "Installing collected packages: torchvision\n",
      "Successfully installed torchvision-0.21.0\n"
     ]
    }
   ],
   "source": [
    "import sys\n",
    "!{sys.executable} -m pip install torchvision"
   ]
  },
  {
   "cell_type": "code",
   "execution_count": 25,
   "metadata": {},
   "outputs": [
    {
     "name": "stdout",
     "output_type": "stream",
     "text": [
      "Note: you may need to restart the kernel to use updated packages.\n"
     ]
    },
    {
     "name": "stderr",
     "output_type": "stream",
     "text": [
      "WARNING: Skipping clip-by-openai as it is not installed.\n"
     ]
    }
   ],
   "source": [
    "%pip uninstall clip-by-openai"
   ]
  },
  {
   "cell_type": "code",
   "execution_count": 26,
   "metadata": {},
   "outputs": [
    {
     "name": "stdout",
     "output_type": "stream",
     "text": [
      "Collecting git+https://github.com/openai/CLIP.git\n",
      "  Cloning https://github.com/openai/CLIP.git to c:\\users\\zainabfr\\appdata\\local\\temp\\pip-req-build-75294p6r\n",
      "  Resolved https://github.com/openai/CLIP.git to commit dcba3cb2e2827b402d2701e7e1c7d9fed8a20ef1\n",
      "  Preparing metadata (setup.py): started\n",
      "  Preparing metadata (setup.py): finished with status 'done'\n",
      "Collecting ftfy (from clip==1.0)\n",
      "  Using cached ftfy-6.3.1-py3-none-any.whl.metadata (7.3 kB)\n",
      "Requirement already satisfied: packaging in c:\\users\\zainabfr\\anaconda3-copy\\lib\\site-packages (from clip==1.0) (23.2)\n",
      "Requirement already satisfied: regex in c:\\users\\zainabfr\\anaconda3-copy\\lib\\site-packages (from clip==1.0) (2023.10.3)\n",
      "Requirement already satisfied: tqdm in c:\\users\\zainabfr\\anaconda3-copy\\lib\\site-packages (from clip==1.0) (4.66.4)\n",
      "Requirement already satisfied: torch in c:\\users\\zainabfr\\anaconda3-copy\\lib\\site-packages (from clip==1.0) (2.6.0)\n",
      "Requirement already satisfied: torchvision in c:\\users\\zainabfr\\anaconda3-copy\\lib\\site-packages (from clip==1.0) (0.21.0)\n",
      "Requirement already satisfied: wcwidth in c:\\users\\zainabfr\\anaconda3-copy\\lib\\site-packages (from ftfy->clip==1.0) (0.2.5)\n",
      "Requirement already satisfied: filelock in c:\\users\\zainabfr\\anaconda3-copy\\lib\\site-packages (from torch->clip==1.0) (3.13.1)\n",
      "Requirement already satisfied: typing-extensions>=4.10.0 in c:\\users\\zainabfr\\anaconda3-copy\\lib\\site-packages (from torch->clip==1.0) (4.12.2)\n",
      "Requirement already satisfied: networkx in c:\\users\\zainabfr\\anaconda3-copy\\lib\\site-packages (from torch->clip==1.0) (3.2.1)\n",
      "Requirement already satisfied: jinja2 in c:\\users\\zainabfr\\anaconda3-copy\\lib\\site-packages (from torch->clip==1.0) (3.1.4)\n",
      "Requirement already satisfied: fsspec in c:\\users\\zainabfr\\anaconda3-copy\\lib\\site-packages (from torch->clip==1.0) (2024.3.1)\n",
      "Requirement already satisfied: setuptools in c:\\users\\zainabfr\\anaconda3-copy\\lib\\site-packages (from torch->clip==1.0) (69.5.1)\n",
      "Requirement already satisfied: sympy==1.13.1 in c:\\users\\zainabfr\\anaconda3-copy\\lib\\site-packages (from torch->clip==1.0) (1.13.1)\n",
      "Requirement already satisfied: mpmath<1.4,>=1.1.0 in c:\\users\\zainabfr\\anaconda3-copy\\lib\\site-packages (from sympy==1.13.1->torch->clip==1.0) (1.3.0)\n",
      "Requirement already satisfied: numpy in c:\\users\\zainabfr\\anaconda3-copy\\lib\\site-packages (from torchvision->clip==1.0) (1.26.4)\n",
      "Requirement already satisfied: pillow!=8.3.*,>=5.3.0 in c:\\users\\zainabfr\\anaconda3-copy\\lib\\site-packages (from torchvision->clip==1.0) (10.3.0)\n",
      "Requirement already satisfied: colorama in c:\\users\\zainabfr\\anaconda3-copy\\lib\\site-packages (from tqdm->clip==1.0) (0.4.6)\n",
      "Requirement already satisfied: MarkupSafe>=2.0 in c:\\users\\zainabfr\\anaconda3-copy\\lib\\site-packages (from jinja2->torch->clip==1.0) (2.1.3)\n",
      "Downloading ftfy-6.3.1-py3-none-any.whl (44 kB)\n",
      "   ---------------------------------------- 0.0/44.8 kB ? eta -:--:--\n",
      "   ---------------------------------------- 44.8/44.8 kB 1.1 MB/s eta 0:00:00\n",
      "Building wheels for collected packages: clip\n",
      "  Building wheel for clip (setup.py): started\n",
      "  Building wheel for clip (setup.py): finished with status 'done'\n",
      "  Created wheel for clip: filename=clip-1.0-py3-none-any.whl size=1369571 sha256=66d94df2f813db49d1221dc1e2c82645e6d35e15ed034abbc1871a0d470c9729\n",
      "  Stored in directory: C:\\Users\\ZainabFR\\AppData\\Local\\Temp\\pip-ephem-wheel-cache-2_r3j927\\wheels\\35\\3e\\df\\3d24cbfb3b6a06f17a2bfd7d1138900d4365d9028aa8f6e92f\n",
      "Successfully built clip\n",
      "Installing collected packages: ftfy, clip\n",
      "Successfully installed clip-1.0 ftfy-6.3.1\n"
     ]
    },
    {
     "name": "stderr",
     "output_type": "stream",
     "text": [
      "  Running command git clone --filter=blob:none --quiet https://github.com/openai/CLIP.git 'C:\\Users\\ZainabFR\\AppData\\Local\\Temp\\pip-req-build-75294p6r'\n"
     ]
    }
   ],
   "source": [
    "import sys\n",
    "!{sys.executable} -m pip install git+https://github.com/openai/CLIP.git"
   ]
  },
  {
   "cell_type": "code",
   "execution_count": 27,
   "metadata": {},
   "outputs": [],
   "source": [
    "import torch\n",
    "import torchvision.transforms as transforms\n",
    "import clip\n",
    "import os\n",
    "import json\n",
    "import requests\n",
    "from PIL import Image\n",
    "from dotenv import load_dotenv\n",
    "\n",
    "\n",
    "# Load API Key from .env\n",
    "load_dotenv(\"Unsplash.env\")  \n",
    "UNSPLASH_ACCESS_KEY = os.getenv(\"UNSPLASH_ACCESS_KEY\")\n"
   ]
  }
 ],
 "metadata": {
  "kernelspec": {
   "display_name": "base",
   "language": "python",
   "name": "python3"
  },
  "language_info": {
   "codemirror_mode": {
    "name": "ipython",
    "version": 3
   },
   "file_extension": ".py",
   "mimetype": "text/x-python",
   "name": "python",
   "nbconvert_exporter": "python",
   "pygments_lexer": "ipython3",
   "version": "3.12.4"
  }
 },
 "nbformat": 4,
 "nbformat_minor": 2
}
